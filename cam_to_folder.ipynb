{
 "cells": [
  {
   "cell_type": "markdown",
   "metadata": {},
   "source": [
    "# Webcam to Folder/Directory Notebook"
   ]
  },
  {
   "cell_type": "markdown",
   "metadata": {},
   "source": [
    "### -To help save multiple preprocessed face images to the relevant directory"
   ]
  },
  {
   "cell_type": "code",
   "execution_count": 1,
   "metadata": {},
   "outputs": [
    {
     "name": "stdout",
     "output_type": "stream",
     "text": [
      "Image saved as Known_Faces\\Tolu\\3cbc559c-34ff-11ee-903b-98fa9b9e94b2.jpg\n",
      "Image saved as Known_Faces\\Tolu\\3d8184e0-34ff-11ee-b2a9-98fa9b9e94b2.jpg\n",
      "Image saved as Known_Faces\\Tolu\\3dba05b0-34ff-11ee-b276-98fa9b9e94b2.jpg\n",
      "Image saved as Known_Faces\\Tolu\\42f73190-34ff-11ee-9896-98fa9b9e94b2.jpg\n",
      "Image saved as Known_Faces\\Tolu\\431eab5b-34ff-11ee-a727-98fa9b9e94b2.jpg\n",
      "Image saved as Known_Faces\\Tolu\\440689fe-34ff-11ee-b2c2-98fa9b9e94b2.jpg\n",
      "Image saved as Known_Faces\\Tolu\\4465162b-34ff-11ee-a765-98fa9b9e94b2.jpg\n",
      "Image saved as Known_Faces\\Tolu\\44d5cd6e-34ff-11ee-be52-98fa9b9e94b2.jpg\n",
      "Image saved as Known_Faces\\Tolu\\4533eb93-34ff-11ee-83d8-98fa9b9e94b2.jpg\n",
      "Image saved as Known_Faces\\Tolu\\49358aad-34ff-11ee-ba5e-98fa9b9e94b2.jpg\n",
      "Image saved as Known_Faces\\Tolu\\4aec231f-34ff-11ee-93a9-98fa9b9e94b2.jpg\n",
      "Image saved as Known_Faces\\Tolu\\4bab2afa-34ff-11ee-bf8d-98fa9b9e94b2.jpg\n",
      "Image saved as Known_Faces\\Tolu\\4bed1785-34ff-11ee-b602-98fa9b9e94b2.jpg\n",
      "Image saved as Known_Faces\\Tolu\\4c68d700-34ff-11ee-8fb6-98fa9b9e94b2.jpg\n",
      "Image saved as Known_Faces\\Tolu\\4d5d63ae-34ff-11ee-8dc6-98fa9b9e94b2.jpg\n",
      "Image saved as Known_Faces\\Tolu\\4e17846d-34ff-11ee-8576-98fa9b9e94b2.jpg\n"
     ]
    }
   ],
   "source": [
    "import cv2\n",
    "import os\n",
    "import uuid\n",
    "\n",
    "def capture_and_save_image(name):\n",
    "    # Open the default camera (usually the webcam)\n",
    "    cap = cv2.VideoCapture(0)\n",
    "\n",
    "    # Set the camera resolution to 250x250\n",
    "    # cap.set(cv2.CAP_PROP_FRAME_WIDTH, 250)\n",
    "    # cap.set(cv2.CAP_PROP_FRAME_HEIGHT, 250)\n",
    "\n",
    "    # Loop until the user presses the 'b' key\n",
    "    while True:\n",
    "        ret, frame = cap.read()\n",
    "        frame = frame[120:120+250,200:200+250, :]\n",
    "\n",
    "        # Display the video stream in a window\n",
    "        cv2.imshow('Capture Image', frame)\n",
    "\n",
    "        # Wait for the user to press a key (maximum delay of 10 milliseconds)\n",
    "        key = cv2.waitKey(10)\n",
    "\n",
    "        # If the user presses the 'b' key (ASCII value 98), save the image and exit the loop\n",
    "        if key == 98:\n",
    "            # Convert the image to greyscale\n",
    "            grey_frame = cv2.cvtColor(frame, cv2.COLOR_BGR2GRAY)\n",
    "\n",
    "            # Save the greyscale image to the \"Known_Faces\" folder with the provided name\n",
    "            filename = os.path.join('Known_Faces', f'{name}', f'{uuid.uuid1()}.jpg')\n",
    "            cv2.imwrite(filename, grey_frame)\n",
    "\n",
    "            print(f\"Image saved as {filename}\")\n",
    "        elif key == 113:\n",
    "            break\n",
    "\n",
    "    # Release the camera and close the OpenCV windows\n",
    "    cap.release()\n",
    "    cv2.destroyAllWindows()\n",
    "\n",
    "def main():\n",
    "    # Prompt the user for their name\n",
    "    name = input(\"Enter your name: \")\n",
    "\n",
    "    # Create the \"Known_Faces\" folder if it doesn't exist\n",
    "    if not os.path.exists(f'Known_Faces/{name}'):\n",
    "        os.mkdir(f'Known_Faces/{name}')\n",
    "\n",
    "    # Capture and save the image\n",
    "    capture_and_save_image(name)\n",
    "\n",
    "if __name__ == \"__main__\":\n",
    "    main()\n"
   ]
  }
 ],
 "metadata": {
  "kernelspec": {
   "display_name": "base",
   "language": "python",
   "name": "python3"
  },
  "language_info": {
   "codemirror_mode": {
    "name": "ipython",
    "version": 3
   },
   "file_extension": ".py",
   "mimetype": "text/x-python",
   "name": "python",
   "nbconvert_exporter": "python",
   "pygments_lexer": "ipython3",
   "version": "3.10.9"
  },
  "orig_nbformat": 4
 },
 "nbformat": 4,
 "nbformat_minor": 2
}
