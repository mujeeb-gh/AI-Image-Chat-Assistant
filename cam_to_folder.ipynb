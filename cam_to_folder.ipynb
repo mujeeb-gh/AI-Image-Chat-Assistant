{
 "cells": [
  {
   "cell_type": "markdown",
   "metadata": {},
   "source": [
    "# Webcam to Folder/Directory Notebook"
   ]
  },
  {
   "cell_type": "markdown",
   "metadata": {},
   "source": [
    "### -To help save multiple preprocessed face images to the relevant directory"
   ]
  },
  {
   "cell_type": "code",
   "execution_count": 1,
   "metadata": {},
   "outputs": [
    {
     "name": "stdout",
     "output_type": "stream",
     "text": [
      "Image saved as Known_Faces\\Semilore\\f3abc439-5215-11ee-a0ab-dc7196b8973b.jpg\n",
      "Image saved as Known_Faces\\Semilore\\f469dc2f-5215-11ee-98eb-dc7196b8973b.jpg\n",
      "Image saved as Known_Faces\\Semilore\\02348b4e-5216-11ee-8579-dc7196b8973b.jpg\n",
      "Image saved as Known_Faces\\Semilore\\0fb76587-5216-11ee-84d9-dc7196b8973b.jpg\n",
      "Image saved as Known_Faces\\Semilore\\1a588568-5216-11ee-a843-dc7196b8973b.jpg\n"
     ]
    }
   ],
   "source": [
    "import cv2\n",
    "import os\n",
    "import uuid\n",
    "\n",
    "def capture_and_save_image(name):\n",
    "    # Open the default camera (usually the webcam)\n",
    "    cap = cv2.VideoCapture(0)\n",
    "\n",
    "    # Set the camera resolution to 250x250\n",
    "    # cap.set(cv2.CAP_PROP_FRAME_WIDTH, 250)\n",
    "    # cap.set(cv2.CAP_PROP_FRAME_HEIGHT, 250)\n",
    "\n",
    "    # Loop until the user presses the 'b' key\n",
    "    while True:\n",
    "        ret, frame = cap.read()\n",
    "        frame = frame[120:120+250,200:200+250, :]\n",
    "\n",
    "        # Display the video stream in a window\n",
    "        cv2.imshow('Capture Image', frame)\n",
    "\n",
    "        # Wait for the user to press a key (maximum delay of 10 milliseconds)\n",
    "        key = cv2.waitKey(10)\n",
    "\n",
    "        # If the user presses the 'b' key (ASCII value 98), save the image and exit the loop\n",
    "        if key == 98:\n",
    "            # Convert the image to greyscale\n",
    "            grey_frame = cv2.cvtColor(frame, cv2.COLOR_BGR2GRAY)\n",
    "\n",
    "            # Save the greyscale image to the \"Known_Faces\" folder with the provided name\n",
    "            filename = os.path.join('Known_Faces', f'{name}', f'{uuid.uuid1()}.jpg')\n",
    "            cv2.imwrite(filename, grey_frame)\n",
    "\n",
    "            print(f\"Image saved as {filename}\")\n",
    "        elif key == 113:\n",
    "            break\n",
    "\n",
    "    # Release the camera and close the OpenCV windows\n",
    "    cap.release()\n",
    "    cv2.destroyAllWindows()\n",
    "\n",
    "def main():\n",
    "    # Prompt the user for their name\n",
    "    name = input(\"Enter your name: \")\n",
    "\n",
    "    # Create the \"Known_Faces\" folder if it doesn't exist\n",
    "    if not os.path.exists(f'Known_Faces/{name}'):\n",
    "        os.mkdir(f'Known_Faces/{name}')\n",
    "\n",
    "    # Capture and save the image\n",
    "    capture_and_save_image(name)\n",
    "\n",
    "if __name__ == \"__main__\":\n",
    "    main()\n"
   ]
  }
 ],
 "metadata": {
  "kernelspec": {
   "display_name": "base",
   "language": "python",
   "name": "python3"
  },
  "language_info": {
   "codemirror_mode": {
    "name": "ipython",
    "version": 3
   },
   "file_extension": ".py",
   "mimetype": "text/x-python",
   "name": "python",
   "nbconvert_exporter": "python",
   "pygments_lexer": "ipython3",
   "version": "3.10.9"
  },
  "orig_nbformat": 4
 },
 "nbformat": 4,
 "nbformat_minor": 2
}
