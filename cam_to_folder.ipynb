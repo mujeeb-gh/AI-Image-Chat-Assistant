{
 "cells": [
  {
   "cell_type": "markdown",
   "metadata": {},
   "source": [
    "# Webcam to Folder/Directory Notebook"
   ]
  },
  {
   "cell_type": "markdown",
   "metadata": {},
   "source": [
    "### -To help save multiple preprocessed face images to the relevant directory"
   ]
  },
  {
   "cell_type": "code",
   "execution_count": 1,
   "metadata": {},
   "outputs": [
    {
     "name": "stdout",
     "output_type": "stream",
     "text": [
      "Image saved as Known_Faces\\Aalimah\\84dffdc9-3453-11ee-af91-98fa9b9e94b2.jpg\n",
      "Image saved as Known_Faces\\Aalimah\\860f34b1-3453-11ee-8ceb-98fa9b9e94b2.jpg\n",
      "Image saved as Known_Faces\\Aalimah\\8683ae94-3453-11ee-9e06-98fa9b9e94b2.jpg\n",
      "Image saved as Known_Faces\\Aalimah\\86e5f782-3453-11ee-843f-98fa9b9e94b2.jpg\n",
      "Image saved as Known_Faces\\Aalimah\\93c95e22-3453-11ee-a02a-98fa9b9e94b2.jpg\n",
      "Image saved as Known_Faces\\Aalimah\\99ef4ef0-3453-11ee-b29f-98fa9b9e94b2.jpg\n",
      "Image saved as Known_Faces\\Aalimah\\a3798650-3453-11ee-b5e6-98fa9b9e94b2.jpg\n",
      "Image saved as Known_Faces\\Aalimah\\a66ac914-3453-11ee-a998-98fa9b9e94b2.jpg\n",
      "Image saved as Known_Faces\\Aalimah\\a779ffd0-3453-11ee-9ec7-98fa9b9e94b2.jpg\n",
      "Image saved as Known_Faces\\Aalimah\\a9e88a72-3453-11ee-84f7-98fa9b9e94b2.jpg\n",
      "Image saved as Known_Faces\\Aalimah\\ac2d8cf6-3453-11ee-b452-98fa9b9e94b2.jpg\n",
      "Image saved as Known_Faces\\Aalimah\\af35e2c2-3453-11ee-a785-98fa9b9e94b2.jpg\n"
     ]
    }
   ],
   "source": [
    "import cv2\n",
    "import os\n",
    "import uuid\n",
    "\n",
    "def capture_and_save_image(name):\n",
    "    # Open the default camera (usually the webcam)\n",
    "    cap = cv2.VideoCapture(0)\n",
    "\n",
    "    # Set the camera resolution to 250x250\n",
    "    # cap.set(cv2.CAP_PROP_FRAME_WIDTH, 250)\n",
    "    # cap.set(cv2.CAP_PROP_FRAME_HEIGHT, 250)\n",
    "\n",
    "    # Loop until the user presses the 'b' key\n",
    "    while True:\n",
    "        ret, frame = cap.read()\n",
    "        frame = frame[120:120+250,200:200+250, :]\n",
    "\n",
    "        # Display the video stream in a window\n",
    "        cv2.imshow('Capture Image', frame)\n",
    "\n",
    "        # Wait for the user to press a key (maximum delay of 10 milliseconds)\n",
    "        key = cv2.waitKey(10)\n",
    "\n",
    "        # If the user presses the 'b' key (ASCII value 98), save the image and exit the loop\n",
    "        if key == 98:\n",
    "            # Convert the image to greyscale\n",
    "            grey_frame = cv2.cvtColor(frame, cv2.COLOR_BGR2GRAY)\n",
    "\n",
    "            # Save the greyscale image to the \"Known_Faces\" folder with the provided name\n",
    "            filename = os.path.join('Known_Faces', f'{name}', f'{uuid.uuid1()}.jpg')\n",
    "            cv2.imwrite(filename, grey_frame)\n",
    "\n",
    "            print(f\"Image saved as {filename}\")\n",
    "        elif key == 113:\n",
    "            break\n",
    "\n",
    "    # Release the camera and close the OpenCV windows\n",
    "    cap.release()\n",
    "    cv2.destroyAllWindows()\n",
    "\n",
    "def main():\n",
    "    # Prompt the user for their name\n",
    "    name = input(\"Enter your name: \")\n",
    "\n",
    "    # Create the \"Known_Faces\" folder if it doesn't exist\n",
    "    if not os.path.exists(f'Known_Faces/{name}'):\n",
    "        os.mkdir(f'Known_Faces/{name}')\n",
    "\n",
    "    # Capture and save the image\n",
    "    capture_and_save_image(name)\n",
    "\n",
    "if __name__ == \"__main__\":\n",
    "    main()\n"
   ]
  }
 ],
 "metadata": {
  "kernelspec": {
   "display_name": "base",
   "language": "python",
   "name": "python3"
  },
  "language_info": {
   "codemirror_mode": {
    "name": "ipython",
    "version": 3
   },
   "file_extension": ".py",
   "mimetype": "text/x-python",
   "name": "python",
   "nbconvert_exporter": "python",
   "pygments_lexer": "ipython3",
   "version": "3.10.9"
  },
  "orig_nbformat": 4
 },
 "nbformat": 4,
 "nbformat_minor": 2
}
