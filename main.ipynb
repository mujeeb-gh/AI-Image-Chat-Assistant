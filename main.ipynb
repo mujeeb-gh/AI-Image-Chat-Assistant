{
 "cells": [
  {
   "cell_type": "code",
   "execution_count": 1,
   "metadata": {},
   "outputs": [],
   "source": [
    "import cv2 as cv\n",
    "import face_recognition\n",
    "# Changes to be made"
   ]
  },
  {
   "cell_type": "code",
   "execution_count": 2,
   "metadata": {},
   "outputs": [],
   "source": [
    "face_classifier = cv.CascadeClassifier('haarcascade_frontalface_default.xml')\n",
    "\n",
    "def get_face_embeddings(image_path):\n",
    "    image = face_recognition.load_image_file(image_path)\n",
    "    face_encodings = face_recognition.face_encodings(image)\n",
    "\n",
    "    if len(face_encodings) > 0:\n",
    "        return face_encodings[0]  # Return the first face encoding (assumes one face per image)\n",
    "    else:\n",
    "        return None\n",
    "\n",
    "def compare_faces(known_face_encoding, unknown_face_encoding):\n",
    "    # Compute the Euclidean distance between the two face embeddings\n",
    "    return face_recognition.face_distance([known_face_encoding], unknown_face_encoding)[0]\n",
    "  \n",
    "def similarity_to_percentage(similarity_score):\n",
    "  return (1 - similarity_score)* 100\n",
    "\n",
    "def face_extractor(img) :\n",
    "  # Function detects face and returns the cropped face\n",
    "  # if no face is found, it returns the input image\n",
    "    gray = cv.cvtColor(img,cv.COLOR_BGR2GRAY)\n",
    "    faces = face_classifier.detectMultiScale(gray, 1.3, 5)\n",
    "    if len(faces) == 0 :\n",
    "        return None\n",
    "    #crop all faces found\n",
    "    for (x,y,w,h) in faces :\n",
    "        cropped_face = img[y : y + h, x : x + w]\n",
    "    return cropped_face"
   ]
  },
  {
   "cell_type": "code",
   "execution_count": 3,
   "metadata": {},
   "outputs": [],
   "source": [
    "def main():\n",
    "    known_image_path = \"Known_Faces/Tolu2.jpg\"\n",
    "    known = cv.imread(known_image_path)\n",
    "    \n",
    "    #Get second image with \n",
    "    # global frame\n",
    "    cap = cv.VideoCapture(0)\n",
    "  \n",
    "    while True:\n",
    "        ret, frame = cap.read()\n",
    "        # if not ret:\n",
    "        #     print(\"Failed to grab frame\")\n",
    "        #     break\n",
    "        \n",
    "        \n",
    "        if face_extractor(frame) is not None :\n",
    "            face = cv.resize(face_extractor(frame), (200, 200))\n",
    "            face = cv.cvtColor(face, cv.COLOR_BGR2GRAY)\n",
    "            unknown_image_path = f\"Unknown_Faces/face.jpg\"\n",
    "            cv.imwrite(unknown_image_path, face) \n",
    "        else:\n",
    "            print(\"\\n Face not found \\n\")\n",
    "            break\n",
    "        \n",
    "        \n",
    "        # Load known and unknown face embeddings\n",
    "        known_face_encoding = get_face_embeddings(known_image_path)\n",
    "        if known_face_encoding is None:\n",
    "            print(\"No face detected in the known image.\")\n",
    "            return\n",
    "\n",
    "        unknown_face_encoding = get_face_embeddings(unknown_image_path)\n",
    "        if unknown_face_encoding is None:\n",
    "            print(\"No face detected in the unknown image.\")\n",
    "            return\n",
    "\n",
    "        # Compare faces\n",
    "        similarity_score = compare_faces(known_face_encoding, unknown_face_encoding)\n",
    "        similarity_percentage = similarity_to_percentage(similarity_score= similarity_score)\n",
    "        print(f\"Similarity percentage: {similarity_percentage:.2f}%\")\n",
    "\n",
    "        # Define a threshold to consider faces similar or not\n",
    "        similarity_threshold = 60\n",
    "        if similarity_percentage >= similarity_threshold:\n",
    "            print(\"The faces are similar.\")\n",
    "        else:\n",
    "            print(\"The faces are not similar.\")\n",
    "        \n",
    "        cv.imshow(\"Known_Faces\", known)\n",
    "        cv.putText(frame, f\"Similarity Percentage: {similarity_percentage:.2f}%\", (50,50), cv.FONT_HERSHEY_COMPLEX, 1.0, (255,0,255), 2)\n",
    "        cv.imshow(\"Unknown Face\", frame)\n",
    "        break\n",
    "    \n",
    "    \n",
    "    \n",
    "    cv.waitKey(0)\n",
    "    cap.release()\n",
    "    cv.destroyAllWindows() \n",
    "    \n",
    "# # display = cv.imread(frame)\n",
    "# cv.imshow(\"Testing Face\", frame) "
   ]
  },
  {
   "cell_type": "code",
   "execution_count": 6,
   "metadata": {},
   "outputs": [
    {
     "name": "stdout",
     "output_type": "stream",
     "text": [
      "Similarity percentage: 34.30%\n",
      "The faces are not similar.\n"
     ]
    }
   ],
   "source": [
    "if __name__ == \"__main__\":\n",
    "  main()"
   ]
  },
  {
   "cell_type": "code",
   "execution_count": null,
   "metadata": {},
   "outputs": [],
   "source": []
  }
 ],
 "metadata": {
  "kernelspec": {
   "display_name": "base",
   "language": "python",
   "name": "python3"
  },
  "language_info": {
   "codemirror_mode": {
    "name": "ipython",
    "version": 3
   },
   "file_extension": ".py",
   "mimetype": "text/x-python",
   "name": "python",
   "nbconvert_exporter": "python",
   "pygments_lexer": "ipython3",
   "version": "3.10.9"
  },
  "orig_nbformat": 4
 },
 "nbformat": 4,
 "nbformat_minor": 2
}
