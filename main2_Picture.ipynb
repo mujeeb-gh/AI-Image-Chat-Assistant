{
 "cells": [
  {
   "cell_type": "code",
   "execution_count": 2,
   "metadata": {},
   "outputs": [],
   "source": [
    "import cv2 as cv\n",
    "import face_recognition"
   ]
  },
  {
   "cell_type": "code",
   "execution_count": 3,
   "metadata": {},
   "outputs": [],
   "source": [
    "face_classifier = cv.CascadeClassifier('haarcascade_frontalface_default.xml')\n",
    "\n",
    "def load_image(image_path):\n",
    "    image = cv.imread(image_path)\n",
    "    return image\n",
    "  \n",
    "def compute_face_encodings(image):\n",
    "    face_locations = face_recognition.face_locations(image, model=\"cnn\")\n",
    "    face_encodings = face_recognition.face_encodings(image, face_locations)\n",
    "    return face_encodings\n",
    "\n",
    "def calculate_similarity(known_face_encoding, unknown_face_encoding):\n",
    "    # Calculate the Euclidean distance between the two face encodings\n",
    "    return face_recognition.face_distance([known_face_encoding], unknown_face_encoding)\n",
    "\n",
    "  \n",
    "def similarity_to_percentage(similarity_score):\n",
    "  return (1 - similarity_score)* 100\n",
    "\n",
    "def face_extractor(img) :\n",
    "  # Function detects face and returns the cropped face\n",
    "  # if no face is found, it returns the input image\n",
    "    gray = cv.cvtColor(img,cv.COLOR_BGR2GRAY)\n",
    "    faces = face_classifier.detectMultiScale(gray, 1.3, 5)\n",
    "    if len(faces) == 0 :\n",
    "        return None\n",
    "    #crop all faces found\n",
    "    for (x,y,w,h) in faces :\n",
    "        cropped_face = img[y : y + h, x : x + w]\n",
    "    return cropped_face"
   ]
  },
  {
   "cell_type": "code",
   "execution_count": 4,
   "metadata": {},
   "outputs": [],
   "source": [
    "def main():\n",
    "    known_image_path = \"Known_Faces/Tolu2.jpg\"\n",
    "    known = cv.imread(known_image_path)\n",
    "    \n",
    "    cap = cv.VideoCapture(0)\n",
    "  \n",
    "    while True:\n",
    "        ret, frame = cap.read()\n",
    "        \n",
    "        if not ret:\n",
    "            print(\"Failed to grab frame.\")\n",
    "            break\n",
    "        \n",
    "        if face_extractor(frame) is not None :\n",
    "            face = cv.resize(face_extractor(frame), (200, 200))\n",
    "            face = cv.cvtColor(face, cv.COLOR_BGR2GRAY)\n",
    "            unknown_image_path = f\"Unknown_Faces/face.jpg\"\n",
    "            cv.imwrite(unknown_image_path, face) \n",
    "        else:\n",
    "            print(\"\\n Face not found \\n\")\n",
    "            break\n",
    "        \n",
    "\n",
    "        # Load known and unknown face images\n",
    "        known_image = load_image(known_image_path)\n",
    "        unknown_image = load_image(unknown_image_path)\n",
    "\n",
    "        # Compute face encodings for known and unknown faces\n",
    "        known_face_encodings = compute_face_encodings(known_image)\n",
    "        unknown_face_encodings = compute_face_encodings(unknown_image)\n",
    "\n",
    "        if len(known_face_encodings) == 0 or len(unknown_face_encodings) == 0:\n",
    "            print(\"No face detected in one or both images.\")\n",
    "            return\n",
    "\n",
    "        # Calculate similarity score using the face encodings\n",
    "        similarity_score = calculate_similarity(known_face_encodings[0], unknown_face_encodings[0])\n",
    "        # print(\"Similarity Score:\", similarity_score[0])\n",
    "        \n",
    "        similarity_percentage = float(similarity_to_percentage(similarity_score= similarity_score))\n",
    "        print(f\"Similarity percentage: {similarity_percentage:.2f}%\")\n",
    "\n",
    "        # Define a threshold to consider faces similar or not\n",
    "        similarity_threshold = 60\n",
    "        if similarity_percentage >= similarity_threshold:\n",
    "            print(\"The faces are similar.\")\n",
    "        else:\n",
    "            print(\"The faces are not similar.\")\n",
    "            \n",
    "        cv.imshow(\"Known_Faces\", known)\n",
    "        cv.putText(frame, f\"Similarity Percentage: {similarity_percentage:.2f}%\", (50,50), cv.FONT_HERSHEY_COMPLEX, 1.0, (255,0,255), 2)\n",
    "        cv.imshow(\"Unknown Face\", frame)\n",
    "        break\n",
    "      \n",
    "    cv.waitKey(0)\n",
    "    cap.release()\n",
    "    cv.destroyAllWindows() "
   ]
  },
  {
   "cell_type": "code",
   "execution_count": 8,
   "metadata": {},
   "outputs": [
    {
     "name": "stdout",
     "output_type": "stream",
     "text": [
      "Similarity percentage: 34.28%\n",
      "The faces are not similar.\n"
     ]
    }
   ],
   "source": [
    "if __name__ == \"__main__\":\n",
    "  main()"
   ]
  },
  {
   "cell_type": "code",
   "execution_count": null,
   "metadata": {},
   "outputs": [],
   "source": []
  },
  {
   "cell_type": "code",
   "execution_count": null,
   "metadata": {},
   "outputs": [],
   "source": []
  },
  {
   "cell_type": "code",
   "execution_count": null,
   "metadata": {},
   "outputs": [],
   "source": []
  }
 ],
 "metadata": {
  "kernelspec": {
   "display_name": "base",
   "language": "python",
   "name": "python3"
  },
  "language_info": {
   "codemirror_mode": {
    "name": "ipython",
    "version": 3
   },
   "file_extension": ".py",
   "mimetype": "text/x-python",
   "name": "python",
   "nbconvert_exporter": "python",
   "pygments_lexer": "ipython3",
   "version": "3.10.9"
  },
  "orig_nbformat": 4
 },
 "nbformat": 4,
 "nbformat_minor": 2
}
