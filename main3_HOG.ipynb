{
 "cells": [
  {
   "cell_type": "code",
   "execution_count": 12,
   "id": "1e8dab38",
   "metadata": {},
   "outputs": [],
   "source": [
    "import cv2 as cv\n",
    "import numpy as np"
   ]
  },
  {
   "cell_type": "code",
   "execution_count": 13,
   "id": "ec9caf42",
   "metadata": {},
   "outputs": [],
   "source": [
    "# Load HHAR face classifier\n",
    "face_classifier = cv.CascadeClassifier('haarcascade_frontalface_default.xml')"
   ]
  },
  {
   "cell_type": "code",
   "execution_count": 14,
   "id": "7793685e",
   "metadata": {},
   "outputs": [],
   "source": [
    "def calculate_hog(image):\n",
    "    # Create HOG descriptor\n",
    "    hog = cv.HOGDescriptor()\n",
    "    # Compute HOG features\n",
    "    hog_features = hog.compute(image)\n",
    "    return hog_features.flatten()\n",
    "\n",
    "def calculate_similarity(feature1, feature2):\n",
    "    # Calculate Euclidean distance between feature vectors\n",
    "    distance = np.linalg.norm(feature1 - feature2)\n",
    "    return distance\n",
    "\n",
    "\n",
    "# Get Image 1 -- selfie to be uploaded\n",
    "image1 = cv.imread(\"Faces\\Tolu2.jpg\", cv.IMREAD_GRAYSCALE)\n",
    "\n",
    "\n",
    "\n",
    "name = str(input(\"Enter your name: \"))\n",
    "def face_extractor(img) :\n",
    "  # Function detects face and returns the cropped face\n",
    "  # if no face is found, it returns the input image\n",
    "    gray = cv.cvtColor(img,cv.COLOR_BGR2GRAY)\n",
    "    faces = face_classifier.detectMultiScale(gray, 1.3, 5)\n",
    "    if len(faces) == 0 :\n",
    "        return None\n",
    "    #crop all faces found\n",
    "    for (x,y,w,h) in faces :\n",
    "        cropped_face = img[y : y + h, x : x + w]\n",
    "    return cropped_face\n",
    "\n",
    "\n",
    "# Get Image 2\n",
    "cap = cv.VideoCapture(0)\n",
    "\n",
    "ret, frame = cap.read()\n",
    "if face_extractor(frame) is not None :\n",
    "    face = cv.resize(face_extractor(frame), (200, 200))\n",
    "    face = cv.cvtColor(face, cv.COLOR_BGR2GRAY)\n",
    "    file_name_path = f\"Faces\\\\{name}2.jpg\"\n",
    "    cv.imwrite(file_name_path, face)  \n",
    "    image2 = cv.imread(f\"Faces\\\\{name}2.jpg\", cv.IMREAD_GRAYSCALE)\n",
    "\n",
    "    # image1 = cv.resize(image1, (64, 128),  interpolation=cv.INTER_CUBIC)\n",
    "    # image2 = cv.resize(image2, (64, 128),  interpolation=cv.INTER_CUBIC)\n",
    "else :\n",
    "    print(\"\\n Face not found \\n\")\n",
    "    pass\n",
    "      \n",
    "cv.waitKey(1) == 13\n",
    "cap.release()\n",
    "cv.destroyAllWindows()  \n",
    "\n",
    "# Load and preprocess two images\n",
    "# cv.imshow(name, image2)"
   ]
  },
  {
   "cell_type": "code",
   "execution_count": 15,
   "id": "499f7aaa",
   "metadata": {},
   "outputs": [
    {
     "ename": "error",
     "evalue": "OpenCV(4.8.0) D:\\a\\opencv-python\\opencv-python\\opencv\\modules\\objdetect\\src\\hog.cpp:243: error: (-215:Assertion failed) !img.empty() in function 'cv::HOGDescriptor::computeGradient'\n",
     "output_type": "error",
     "traceback": [
      "\u001b[1;31m---------------------------------------------------------------------------\u001b[0m",
      "\u001b[1;31merror\u001b[0m                                     Traceback (most recent call last)",
      "Cell \u001b[1;32mIn[15], line 6\u001b[0m\n\u001b[0;32m      1\u001b[0m \u001b[39m# # Resize images to the same dimensions (optional if they are already the same size)\u001b[39;00m\n\u001b[0;32m      2\u001b[0m \u001b[39m# image1 = cv.resize(image1, (64, 128))\u001b[39;00m\n\u001b[0;32m      3\u001b[0m \u001b[39m# image2 = cv.resize(image2, (64, 128))\u001b[39;00m\n\u001b[0;32m      4\u001b[0m \n\u001b[0;32m      5\u001b[0m \u001b[39m# Calculate HOG features for both images\u001b[39;00m\n\u001b[1;32m----> 6\u001b[0m hog_features1 \u001b[39m=\u001b[39m calculate_hog(image1)\n\u001b[0;32m      7\u001b[0m hog_features2 \u001b[39m=\u001b[39m calculate_hog(image2)\n\u001b[0;32m      9\u001b[0m \u001b[39mprint\u001b[39m(hog_features1\u001b[39m.\u001b[39mshape)\n",
      "Cell \u001b[1;32mIn[14], line 5\u001b[0m, in \u001b[0;36mcalculate_hog\u001b[1;34m(image)\u001b[0m\n\u001b[0;32m      3\u001b[0m hog \u001b[39m=\u001b[39m cv\u001b[39m.\u001b[39mHOGDescriptor()\n\u001b[0;32m      4\u001b[0m \u001b[39m# Compute HOG features\u001b[39;00m\n\u001b[1;32m----> 5\u001b[0m hog_features \u001b[39m=\u001b[39m hog\u001b[39m.\u001b[39;49mcompute(image)\n\u001b[0;32m      6\u001b[0m \u001b[39mreturn\u001b[39;00m hog_features\u001b[39m.\u001b[39mflatten()\n",
      "\u001b[1;31merror\u001b[0m: OpenCV(4.8.0) D:\\a\\opencv-python\\opencv-python\\opencv\\modules\\objdetect\\src\\hog.cpp:243: error: (-215:Assertion failed) !img.empty() in function 'cv::HOGDescriptor::computeGradient'\n"
     ]
    }
   ],
   "source": [
    "# # Resize images to the same dimensions (optional if they are already the same size)\n",
    "# image1 = cv.resize(image1, (64, 128))\n",
    "# image2 = cv.resize(image2, (64, 128))\n",
    "\n",
    "# Calculate HOG features for both images\n",
    "hog_features1 = calculate_hog(image1)\n",
    "hog_features2 = calculate_hog(image2)\n",
    "\n",
    "print(hog_features1.shape)\n",
    "print(hog_features2.shape)\n",
    "\n",
    "# print(image1.shape)\n",
    "# print(image2.shape)\n"
   ]
  },
  {
   "cell_type": "code",
   "execution_count": 16,
   "id": "e39c7924",
   "metadata": {},
   "outputs": [
    {
     "ename": "NameError",
     "evalue": "name 'hog_features1' is not defined",
     "output_type": "error",
     "traceback": [
      "\u001b[1;31m---------------------------------------------------------------------------\u001b[0m",
      "\u001b[1;31mNameError\u001b[0m                                 Traceback (most recent call last)",
      "Cell \u001b[1;32mIn[16], line 2\u001b[0m\n\u001b[0;32m      1\u001b[0m \u001b[39m# Calculate similarity score (Euclidean distance)\u001b[39;00m\n\u001b[1;32m----> 2\u001b[0m similarity_score \u001b[39m=\u001b[39m calculate_similarity(hog_features1, hog_features2)\n",
      "\u001b[1;31mNameError\u001b[0m: name 'hog_features1' is not defined"
     ]
    }
   ],
   "source": [
    "# Calculate similarity score (Euclidean distance)\n",
    "similarity_score = calculate_similarity(hog_features1, hog_features2)"
   ]
  },
  {
   "cell_type": "code",
   "execution_count": null,
   "metadata": {},
   "outputs": [
    {
     "name": "stdout",
     "output_type": "stream",
     "text": [
      "680400\n",
      "101.674614\n"
     ]
    }
   ],
   "source": [
    "print(np.max(hog_features1.shape))\n",
    "print(similarity_score)"
   ]
  },
  {
   "cell_type": "code",
   "execution_count": null,
   "id": "14147b83",
   "metadata": {},
   "outputs": [
    {
     "name": "stdout",
     "output_type": "stream",
     "text": [
      "The similarity score is: 99.98505664110044%\n"
     ]
    },
    {
     "ename": "",
     "evalue": "",
     "output_type": "error",
     "traceback": [
      "\u001b[1;31mThe Kernel crashed while executing code in the the current cell or a previous cell. Please review the code in the cell(s) to identify a possible cause of the failure. Click <a href='https://aka.ms/vscodeJupyterKernelCrash'>here</a> for more info. View Jupyter <a href='command:jupyter.viewOutput'>log</a> for further details."
     ]
    }
   ],
   "source": [
    "# Normalize the similarity score to a 0-100 range for better interpretation\n",
    "normalized_score = 100 - (100 * similarity_score / np.max(hog_features1.shape))\n",
    "\n",
    "print(f\"The similarity score is: {normalized_score}%\")"
   ]
  }
 ],
 "metadata": {
  "kernelspec": {
   "display_name": "Python 3 (ipykernel)",
   "language": "python",
   "name": "python3"
  },
  "language_info": {
   "codemirror_mode": {
    "name": "ipython",
    "version": 3
   },
   "file_extension": ".py",
   "mimetype": "text/x-python",
   "name": "python",
   "nbconvert_exporter": "python",
   "pygments_lexer": "ipython3",
   "version": "3.10.9"
  }
 },
 "nbformat": 4,
 "nbformat_minor": 5
}
